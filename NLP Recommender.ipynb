{
 "cells": [
  {
   "cell_type": "code",
   "execution_count": 16,
   "metadata": {},
   "outputs": [],
   "source": [
    "import pandas as pd \n",
    "data = pd.read_csv('web_scrape.csv')\n",
    "data = data[['0','1','2','3','4','5']]\n",
    "data.columns = ['Title', 'Category', 'Desc', 'Installs', 'Number of Rating', 'Rating']"
   ]
  },
  {
   "cell_type": "code",
   "execution_count": 18,
   "metadata": {},
   "outputs": [
    {
     "name": "stdout",
     "output_type": "stream",
     "text": [
      "(13095, 6)\n"
     ]
    }
   ],
   "source": [
    "for j in range(0,len(data)):\n",
    "    if data.Title[j][0] not in '0123456789abcdefghijklmnopqrstuvwxyzABCDEFGHIJKLMNOPQRSTUVWXYZ!\"#$%&\\'()*+,-./:;<=>?@[\\\\]^_`{|}~ \\t\\n\\r\\x0b\\x0c': \n",
    "    #Comparing if first word of the title is non-English\n",
    "        data.drop(j, inplace=True)\n",
    "print(data.shape)"
   ]
  },
  {
   "cell_type": "code",
   "execution_count": 19,
   "metadata": {},
   "outputs": [],
   "source": [
    "data.reset_index(inplace=True)"
   ]
  },
  {
   "cell_type": "code",
   "execution_count": 20,
   "metadata": {},
   "outputs": [],
   "source": [
    "data.drop(columns=['index'],inplace=True)"
   ]
  },
  {
   "cell_type": "markdown",
   "metadata": {},
   "source": [
    "Above is only used to combine all web scraping results. This is where the model starts."
   ]
  },
  {
   "cell_type": "code",
   "execution_count": 21,
   "metadata": {},
   "outputs": [],
   "source": [
    "import pandas as pd\n",
    "from rake_nltk import Rake\n",
    "import numpy as np\n",
    "from sklearn.metrics.pairwise import cosine_similarity\n",
    "from sklearn.feature_extraction.text import CountVectorizer"
   ]
  },
  {
   "cell_type": "code",
   "execution_count": 22,
   "metadata": {},
   "outputs": [],
   "source": [
    "def listToString(s):  \n",
    "    \n",
    "    # initialize an empty string \n",
    "    str1 = \" \" \n",
    "    \n",
    "    # return string   \n",
    "    return (str1.join(s)) "
   ]
  },
  {
   "cell_type": "code",
   "execution_count": 23,
   "metadata": {
    "collapsed": true
   },
   "outputs": [
    {
     "data": {
      "text/html": [
       "<div>\n",
       "<style scoped>\n",
       "    .dataframe tbody tr th:only-of-type {\n",
       "        vertical-align: middle;\n",
       "    }\n",
       "\n",
       "    .dataframe tbody tr th {\n",
       "        vertical-align: top;\n",
       "    }\n",
       "\n",
       "    .dataframe thead th {\n",
       "        text-align: right;\n",
       "    }\n",
       "</style>\n",
       "<table border=\"1\" class=\"dataframe\">\n",
       "  <thead>\n",
       "    <tr style=\"text-align: right;\">\n",
       "      <th></th>\n",
       "      <th>Title</th>\n",
       "      <th>Category</th>\n",
       "      <th>Desc</th>\n",
       "    </tr>\n",
       "  </thead>\n",
       "  <tbody>\n",
       "    <tr>\n",
       "      <th>0</th>\n",
       "      <td>Compass</td>\n",
       "      <td>Tools</td>\n",
       "      <td>Compass is one of the most if not the most ess...</td>\n",
       "    </tr>\n",
       "    <tr>\n",
       "      <th>1</th>\n",
       "      <td>Dropsend Android</td>\n",
       "      <td>Productivity</td>\n",
       "      <td>DropSend is a cloud service that lets you send...</td>\n",
       "    </tr>\n",
       "    <tr>\n",
       "      <th>2</th>\n",
       "      <td>Cloud Console</td>\n",
       "      <td>Tools</td>\n",
       "      <td>Google Cloud Console helps you manage your ser...</td>\n",
       "    </tr>\n",
       "    <tr>\n",
       "      <th>3</th>\n",
       "      <td>TapTube - Music Video Rhythm Game</td>\n",
       "      <td>Music</td>\n",
       "      <td>Do you want to experience the differentiated r...</td>\n",
       "    </tr>\n",
       "    <tr>\n",
       "      <th>4</th>\n",
       "      <td>Indiana DNR</td>\n",
       "      <td>Travel &amp; Local</td>\n",
       "      <td>Indiana Department of Natural Resources and th...</td>\n",
       "    </tr>\n",
       "    <tr>\n",
       "      <th>...</th>\n",
       "      <td>...</td>\n",
       "      <td>...</td>\n",
       "      <td>...</td>\n",
       "    </tr>\n",
       "    <tr>\n",
       "      <th>13090</th>\n",
       "      <td>QuickBooks Accounting: Invoicing &amp; Expenses</td>\n",
       "      <td>Business</td>\n",
       "      <td>Track miles, send invoices, manage your expens...</td>\n",
       "    </tr>\n",
       "    <tr>\n",
       "      <th>13091</th>\n",
       "      <td>Graphing Calculator</td>\n",
       "      <td>Tools</td>\n",
       "      <td>I believe every student in the world should ha...</td>\n",
       "    </tr>\n",
       "    <tr>\n",
       "      <th>13092</th>\n",
       "      <td>Hobby Farm HD Free</td>\n",
       "      <td>Casual</td>\n",
       "      <td>Jill’s dream has finally come true! She has he...</td>\n",
       "    </tr>\n",
       "    <tr>\n",
       "      <th>13093</th>\n",
       "      <td>SimpleMind Free - Intuitive Mind Mapping</td>\n",
       "      <td>Productivity</td>\n",
       "      <td>Mind mapping helps you organize your thoughts,...</td>\n",
       "    </tr>\n",
       "    <tr>\n",
       "      <th>13094</th>\n",
       "      <td>Skyscape Medical Library</td>\n",
       "      <td>Medical</td>\n",
       "      <td>The Skyscape Medical Library app is the only d...</td>\n",
       "    </tr>\n",
       "  </tbody>\n",
       "</table>\n",
       "<p>13095 rows × 3 columns</p>\n",
       "</div>"
      ],
      "text/plain": [
       "                                             Title        Category  \\\n",
       "0                                          Compass           Tools   \n",
       "1                                 Dropsend Android    Productivity   \n",
       "2                                    Cloud Console           Tools   \n",
       "3                TapTube - Music Video Rhythm Game           Music   \n",
       "4                                      Indiana DNR  Travel & Local   \n",
       "...                                            ...             ...   \n",
       "13090  QuickBooks Accounting: Invoicing & Expenses        Business   \n",
       "13091                          Graphing Calculator           Tools   \n",
       "13092                           Hobby Farm HD Free          Casual   \n",
       "13093     SimpleMind Free - Intuitive Mind Mapping    Productivity   \n",
       "13094                     Skyscape Medical Library         Medical   \n",
       "\n",
       "                                                    Desc  \n",
       "0      Compass is one of the most if not the most ess...  \n",
       "1      DropSend is a cloud service that lets you send...  \n",
       "2      Google Cloud Console helps you manage your ser...  \n",
       "3      Do you want to experience the differentiated r...  \n",
       "4      Indiana Department of Natural Resources and th...  \n",
       "...                                                  ...  \n",
       "13090  Track miles, send invoices, manage your expens...  \n",
       "13091  I believe every student in the world should ha...  \n",
       "13092  Jill’s dream has finally come true! She has he...  \n",
       "13093  Mind mapping helps you organize your thoughts,...  \n",
       "13094  The Skyscape Medical Library app is the only d...  \n",
       "\n",
       "[13095 rows x 3 columns]"
      ]
     },
     "execution_count": 23,
     "metadata": {},
     "output_type": "execute_result"
    }
   ],
   "source": [
    "data = data[['Title', 'Category', 'Desc']]"
   ]
  },
  {
   "cell_type": "code",
   "execution_count": 24,
   "metadata": {},
   "outputs": [
    {
     "name": "stderr",
     "output_type": "stream",
     "text": [
      "/Users/marlin/anaconda3/lib/python3.6/site-packages/ipykernel_launcher.py:1: SettingWithCopyWarning: \n",
      "A value is trying to be set on a copy of a slice from a DataFrame.\n",
      "Try using .loc[row_indexer,col_indexer] = value instead\n",
      "\n",
      "See the caveats in the documentation: http://pandas.pydata.org/pandas-docs/stable/user_guide/indexing.html#returning-a-view-versus-a-copy\n",
      "  \"\"\"Entry point for launching an IPython kernel.\n"
     ]
    }
   ],
   "source": [
    "data['key_words'] = \"\"\n",
    "\n",
    "for index, row in data.iterrows():\n",
    "    desc = row['Desc']\n",
    "    category = row['Category']\n",
    "    r = Rake()\n",
    "\n",
    "    # extracting the words by passing the text\n",
    "    r.extract_keywords_from_text(desc)\n",
    "\n",
    "    # getting the dictionary whith key words as keys and their scores as values\n",
    "    key_words_dict_scores = r.get_word_degrees()\n",
    "    \n",
    "    # assigning the key words to the new column for the corresponding movie\n",
    "    row['key_words'] = list(key_words_dict_scores.keys())\n",
    "    row['key_words'].append(category)\n",
    "    row['key_words'] = listToString(row['key_words'])\n",
    "\n",
    "# dropping the columns\n",
    "data.drop(columns = ['Desc'], inplace = True)\n",
    "data.drop(columns = ['Category'], inplace = True)"
   ]
  },
  {
   "cell_type": "code",
   "execution_count": 25,
   "metadata": {},
   "outputs": [
    {
     "data": {
      "text/plain": [
       "'correct want right way adjust twitter e part adjusted stops moving number showing top easy simply turn series life one day always points north real compass side window method beveled edge wait south https :// different learning cover lubber line called deviation movable ring around holding notice large numbers first see remember pointing finally navigation might come handy w indicated exactly across professional navigating ). little heading never know get back influence magnetic sensor bezel arrow inside iron camping trips easier ► follow us came flat pointed long faces point moves bit www double triangle problem card settles west gammaplay learned terms front 120 android device red words counterclockwise simpler facebook steel objects suspect object several feet use n designed wrong direction really tricky ’ downside common mistakes com mean going remembers precise app hold installed actually like bracketing also end east turned notch zero directly navigate mind happening lost even save essential every set bracketed rotating using pocket unknown territory often named causing go google play far allows move away desired user experience works essentially thinking single need would jargon directions degrees read design correctly Tools'"
      ]
     },
     "execution_count": 25,
     "metadata": {},
     "output_type": "execute_result"
    }
   ],
   "source": [
    "data['key_words'][0]"
   ]
  },
  {
   "cell_type": "code",
   "execution_count": 26,
   "metadata": {},
   "outputs": [],
   "source": [
    "data.set_index('Title', inplace = True)"
   ]
  },
  {
   "cell_type": "code",
   "execution_count": 27,
   "metadata": {},
   "outputs": [],
   "source": [
    "# instantiating and generating the count matrix\n",
    "count = CountVectorizer()\n",
    "count_matrix = count.fit_transform(data['key_words'])\n",
    "\n",
    "# generating the cosine similarity matrix\n",
    "cosine_sim = cosine_similarity(count_matrix, count_matrix)"
   ]
  },
  {
   "cell_type": "code",
   "execution_count": 28,
   "metadata": {},
   "outputs": [
    {
     "data": {
      "text/plain": [
       "array([[1.        , 0.0496904 , 0.07284778, ..., 0.07100107, 0.11567035,\n",
       "        0.0860167 ],\n",
       "       [0.0496904 , 1.        , 0.10180787, ..., 0.02268046, 0.07607258,\n",
       "        0.01131407],\n",
       "       [0.07284778, 0.10180787, 1.        , ..., 0.06650062, 0.12267743,\n",
       "        0.07464062],\n",
       "       ...,\n",
       "       [0.07100107, 0.02268046, 0.06650062, ..., 1.        , 0.0869582 ,\n",
       "        0.0369516 ],\n",
       "       [0.11567035, 0.07607258, 0.12267743, ..., 0.0869582 , 1.        ,\n",
       "        0.11154549],\n",
       "       [0.0860167 , 0.01131407, 0.07464062, ..., 0.0369516 , 0.11154549,\n",
       "        1.        ]])"
      ]
     },
     "execution_count": 28,
     "metadata": {},
     "output_type": "execute_result"
    }
   ],
   "source": [
    "cosine_sim"
   ]
  },
  {
   "cell_type": "code",
   "execution_count": 29,
   "metadata": {},
   "outputs": [],
   "source": [
    "indices = pd.Series(data.index)\n",
    "\n",
    "def recommendations(title, cosine_sim = cosine_sim):\n",
    "    \n",
    "    # initializing the empty list of recommended movies\n",
    "    recommended_apps = []\n",
    "    \n",
    "    # gettin the index of the movie that matches the title\n",
    "    idx = indices[indices == title].index[0]\n",
    "\n",
    "    # creating a Series with the similarity scores in descending order\n",
    "    score_series = pd.Series(cosine_sim[idx]).sort_values(ascending = False)\n",
    "\n",
    "    # getting the indexes of the 6 most similar movies\n",
    "    top_10_indexes = list(score_series.iloc[1:11].index)\n",
    "    \n",
    "    # populating the list with the titles of the best 10 matching movies\n",
    "    for i in top_10_indexes:\n",
    "        recommended_apps.append(list(data.index)[i])\n",
    "        \n",
    "    return recommended_apps"
   ]
  },
  {
   "cell_type": "code",
   "execution_count": 30,
   "metadata": {},
   "outputs": [
    {
     "data": {
      "text/plain": [
       "['Xero Accounting Software',\n",
       " 'QuickBooks Self-Employed:Mileage Tracker and Taxes',\n",
       " 'Invoice by Wave',\n",
       " 'PayPal Business: Send Invoices and Track Sales',\n",
       " 'First Horizon Mobile Banking',\n",
       " 'EveryDollar: Budget Tool and Expense Tracker',\n",
       " 'Invoice Maker & Billing App',\n",
       " 'Invoice Maker: Estimate & Invoice App',\n",
       " 'NVB Mobile',\n",
       " 'Invoice 2go - Professional Business Invoice Maker']"
      ]
     },
     "execution_count": 30,
     "metadata": {},
     "output_type": "execute_result"
    }
   ],
   "source": [
    "recommendations('QuickBooks Accounting: Invoicing & Expenses')"
   ]
  },
  {
   "cell_type": "code",
   "execution_count": null,
   "metadata": {},
   "outputs": [],
   "source": []
  }
 ],
 "metadata": {
  "kernelspec": {
   "display_name": "Python 3",
   "language": "python",
   "name": "python3"
  },
  "language_info": {
   "codemirror_mode": {
    "name": "ipython",
    "version": 3
   },
   "file_extension": ".py",
   "mimetype": "text/x-python",
   "name": "python",
   "nbconvert_exporter": "python",
   "pygments_lexer": "ipython3",
   "version": "3.6.8"
  }
 },
 "nbformat": 4,
 "nbformat_minor": 2
}
